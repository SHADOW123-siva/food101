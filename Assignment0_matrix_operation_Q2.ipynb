{
 "cells": [
  {
   "cell_type": "code",
   "execution_count": 1,
   "id": "cd00dc7c-3499-4dca-a968-6074f4445379",
   "metadata": {},
   "outputs": [],
   "source": [
    "import numpy as np"
   ]
  },
  {
   "cell_type": "code",
   "execution_count": null,
   "id": "b7a04b52-9cee-4c3f-9c0e-6b23b377b481",
   "metadata": {},
   "outputs": [],
   "source": [
    "m = int(input(\"Enter the no. of rows of array1: \"))\n",
    "n = int(input(\"Enter the no. of columns of array1: \"))\n",
    "a = int(input(\"Enter the no. of rows of array2: \"))\n",
    "b = int(input(\"Enter the no. of columns of array2: \"))\n",
    "operator = input(\"Enter the operation to be performed(dot,matrix): \")"
   ]
  },
  {
   "cell_type": "code",
   "execution_count": null,
   "id": "75e17bcb-babb-4586-9434-ac9925988d65",
   "metadata": {},
   "outputs": [],
   "source": [
    "rows_1 = []\n",
    "for i in range(1,m+1) :\n",
    "    column_1 = []\n",
    "    for j in range(1,n+1) :\n",
    "        x = float(input(\"Enter the elements of array1(input all elements of first row and then second and so on): \"))\n",
    "        columns_1 = column_1.append(x)\n",
    "    row_1 = rows_1.append(column_1)\n",
    "print(rows_1)\n",
    "print()"
   ]
  },
  {
   "cell_type": "code",
   "execution_count": null,
   "id": "a5e0b123-0cff-41b7-99d0-688e18480fc4",
   "metadata": {},
   "outputs": [],
   "source": [
    "rows_2 = []\n",
    "for i in range(1,a+1) :\n",
    "    column_2 = []\n",
    "    for j in range(1,b+1) :\n",
    "        x = float(input(\"Enter the elements of array((input all elements of first row and then second and so on): \"))\n",
    "        columns_2 = column_2.append(x)\n",
    "    row_2 = rows_2.append(column_2)\n",
    "print(rows_2)\n",
    "print()"
   ]
  },
  {
   "cell_type": "code",
   "execution_count": null,
   "id": "eb3eea7e-dbef-4e5b-a64b-cbacb6e138ae",
   "metadata": {},
   "outputs": [],
   "source": [
    "array1 = np.array(rows_1)\n",
    "array2 = np.array(rows_2)\n",
    "array1_shape = array1.shape\n",
    "array2_shape = array2.shape\n",
    "def dot(array1,array2):\n",
    "    dot_12 = np.array(array1*array2)\n",
    "    print(dot_12)\n",
    "def matmul(array1,array2):\n",
    "    arr3 = np.array([])\n",
    "    if array1_shape[1] == array2_shape[0]:\n",
    "        for i in range(0, array1_shape[0]):\n",
    "            for j in range(0, array2_shape[1]):\n",
    "                y = 0\n",
    "                for k in range(0, array1_shape[1]):\n",
    "                    x = array1[i, k] * array2[k, j]\n",
    "                    y = y + x\n",
    "                    k = k + 1\n",
    "                arr3 = np.append(arr3, y)\n",
    "                j = j + 1\n",
    "            i = i + 1\n",
    "        arr4 = arr3.reshape(array1_shape[0], array2_shape[1])\n",
    "        print(arr4)\n",
    "def matrix_operation(array1,array2,operator):\n",
    "    if operator == \"dot\" and array1_shape == array2_shape :\n",
    "        dot_product = dot(array1,array2)\n",
    "        print(dot_product)\n",
    "    elif operator == \"matrix\" and n == a :\n",
    "        matrix_multiplication = matmul(array1,array2)\n",
    "    else:\n",
    "        print(\"The following operation can't be performed on given matrices\")\n",
    "    return matrix_operation\n",
    "result = matrix_operation(array1,array2,operator)\n",
    "print(result)"
   ]
  }
 ],
 "metadata": {
  "kernelspec": {
   "display_name": "Python(food101)",
   "language": "python",
   "name": "food101"
  },
  "language_info": {
   "codemirror_mode": {
    "name": "ipython",
    "version": 3
   },
   "file_extension": ".py",
   "mimetype": "text/x-python",
   "name": "python",
   "nbconvert_exporter": "python",
   "pygments_lexer": "ipython3",
   "version": "3.13.0"
  }
 },
 "nbformat": 4,
 "nbformat_minor": 5
}
