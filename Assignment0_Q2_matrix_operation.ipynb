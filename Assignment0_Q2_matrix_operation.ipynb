{
 "cells": [
  {
   "cell_type": "code",
   "execution_count": 1,
   "metadata": {},
   "outputs": [],
   "source": [
    "import numpy as np"
   ]
  },
  {
   "cell_type": "code",
   "execution_count": 2,
   "metadata": {},
   "outputs": [],
   "source": [
    "def dot(array1,array2):\n",
    "    if array1_shape == array2_shape:\n",
    "        result = np.array([])\n",
    "        for i in range (0, array1_shape[0]):\n",
    "            for j in range (0, array1_shape[1]):\n",
    "                x = array1[i, j]*array2[i, j]\n",
    "                j = j + 1\n",
    "                result = np.append(result, x)\n",
    "            i = i + 1\n",
    "        dot_result = result.reshape(array1_shape)\n",
    "        return dot_result\n",
    "    print(dot_result)\n",
    "    return dot\n",
    "\n",
    "\n",
    "def matmul(array1,array2):\n",
    "    arr3 = np.array([])\n",
    "    if array1_shape[1] == array2_shape[0]:\n",
    "        for i in range(0, array1_shape[0]):\n",
    "            for j in range(0, array2_shape[1]):\n",
    "                y = 0\n",
    "                for k in range(0, array1_shape[1]):\n",
    "                    x = array1[i, k] * array2[k, j]\n",
    "                    y = y + x\n",
    "                    k = k + 1\n",
    "                arr3 = np.append(arr3, y)\n",
    "                j = j + 1\n",
    "            i = i + 1\n",
    "        arr4 = arr3.reshape(array1_shape[0], array2_shape[1])\n",
    "        print(arr4)\n",
    "    return matmul\n",
    "\n",
    "\n",
    "def matrix_operation(array1,array2,operator):\n",
    "    if operator == \"dot\" :\n",
    "        dot_product = dot(array1,array2)\n",
    "        print(dot_product)\n",
    "    elif operator == \"matrix\" :\n",
    "        matrix_multiplication = matmul(array1,array2)\n",
    "    else:\n",
    "        print(\"The following operation can't be performed on given matrices\")\n",
    "    return matrix_operation"
   ]
  },
  {
   "cell_type": "code",
   "execution_count": null,
   "metadata": {},
   "outputs": [],
   "source": [
    "a = input(\"Enter the first 2D array: \")\n",
    "b = input(\"Enter the second 2D array: \")\n",
    "operator = input(\"Enter the operation to be performed(dot,matrix): \")\n",
    "array1 = np.array(eval(a))\n",
    "array2 = np.array(eval(b))\n",
    "array1_shape = array1.shape\n",
    "array2_shape = array2.shape\n",
    "result = matrix_operation(array1,array2,operator)\n",
    "print(result)"
   ]
  }
 ],
 "metadata": {
  "kernelspec": {
   "display_name": "Python(food101)",
   "language": "python",
   "name": "food101"
  },
  "language_info": {
   "codemirror_mode": {
    "name": "ipython",
    "version": 3
   },
   "file_extension": ".py",
   "mimetype": "text/x-python",
   "name": "python",
   "nbconvert_exporter": "python",
   "pygments_lexer": "ipython3",
   "version": "3.13.0"
  }
 },
 "nbformat": 4,
 "nbformat_minor": 4
}
