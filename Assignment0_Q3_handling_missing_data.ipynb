{
 "cells": [
  {
   "cell_type": "code",
   "execution_count": 1,
   "id": "114c3313-8af0-402b-993d-375421602a68",
   "metadata": {},
   "outputs": [],
   "source": [
    "import pandas as pd\n",
    "import math"
   ]
  },
  {
   "cell_type": "code",
   "execution_count": 2,
   "id": "8eba30a3-bfee-40dc-8dec-dcd86c19fb40",
   "metadata": {},
   "outputs": [],
   "source": [
    "df = pd.read_csv('IITK_Courses_Report.csv')"
   ]
  },
  {
   "cell_type": "code",
   "execution_count": 3,
   "id": "3f1a4628-0434-4f51-b79f-8ebdb001f8e7",
   "metadata": {},
   "outputs": [
    {
     "data": {
      "text/plain": [
       "0      False\n",
       "1      False\n",
       "2      False\n",
       "3      False\n",
       "4      False\n",
       "       ...  \n",
       "195    False\n",
       "196    False\n",
       "197    False\n",
       "198    False\n",
       "199    False\n",
       "Name: Student Name, Length: 200, dtype: bool"
      ]
     },
     "execution_count": 3,
     "metadata": {},
     "output_type": "execute_result"
    }
   ],
   "source": [
    "df['Student Name'].isnull()"
   ]
  },
  {
   "cell_type": "code",
   "execution_count": 4,
   "id": "cebb467a-5b75-4260-beff-735926518211",
   "metadata": {},
   "outputs": [
    {
     "data": {
      "text/plain": [
       "0      False\n",
       "1      False\n",
       "2      False\n",
       "3      False\n",
       "4      False\n",
       "       ...  \n",
       "195    False\n",
       "196    False\n",
       "197    False\n",
       "198    False\n",
       "199    False\n",
       "Name: Course, Length: 200, dtype: bool"
      ]
     },
     "execution_count": 4,
     "metadata": {},
     "output_type": "execute_result"
    }
   ],
   "source": [
    "df['Course'].isnull()"
   ]
  },
  {
   "cell_type": "code",
   "execution_count": 5,
   "id": "b7e6d681-70e2-4b5d-a948-c23e2f3110af",
   "metadata": {},
   "outputs": [
    {
     "data": {
      "text/plain": [
       "0      False\n",
       "1      False\n",
       "2      False\n",
       "3      False\n",
       "4      False\n",
       "       ...  \n",
       "195    False\n",
       "196    False\n",
       "197    False\n",
       "198    False\n",
       "199    False\n",
       "Name: Marks (%), Length: 200, dtype: bool"
      ]
     },
     "execution_count": 5,
     "metadata": {},
     "output_type": "execute_result"
    }
   ],
   "source": [
    "df['Marks (%)'].isnull()"
   ]
  },
  {
   "cell_type": "code",
   "execution_count": 6,
   "id": "35464f29-1e18-45d5-adfd-8355320aa5eb",
   "metadata": {},
   "outputs": [
    {
     "data": {
      "text/plain": [
       "0      False\n",
       "1      False\n",
       "2      False\n",
       "3      False\n",
       "4      False\n",
       "       ...  \n",
       "195    False\n",
       "196    False\n",
       "197    False\n",
       "198    False\n",
       "199    False\n",
       "Name: Attendance (%), Length: 200, dtype: bool"
      ]
     },
     "execution_count": 6,
     "metadata": {},
     "output_type": "execute_result"
    }
   ],
   "source": [
    "df['Attendance (%)'].isnull()"
   ]
  },
  {
   "cell_type": "code",
   "execution_count": 7,
   "id": "14ea1082-a532-4e71-bd9e-0d829a2526f7",
   "metadata": {},
   "outputs": [
    {
     "name": "stderr",
     "output_type": "stream",
     "text": [
      "C:\\Users\\swath\\AppData\\Local\\Temp\\ipykernel_10604\\3318736955.py:3: FutureWarning: Series.__getitem__ treating keys as positions is deprecated. In a future version, integer keys will always be treated as labels (consistent with DataFrame behavior). To access a value by position, use `ser.iloc[pos]`\n",
      "  if pd.isnull(row[2]):\n",
      "C:\\Users\\swath\\AppData\\Local\\Temp\\ipykernel_10604\\3318736955.py:3: FutureWarning: Series.__getitem__ treating keys as positions is deprecated. In a future version, integer keys will always be treated as labels (consistent with DataFrame behavior). To access a value by position, use `ser.iloc[pos]`\n",
      "  if pd.isnull(row[2]):\n",
      "C:\\Users\\swath\\AppData\\Local\\Temp\\ipykernel_10604\\3318736955.py:3: FutureWarning: Series.__getitem__ treating keys as positions is deprecated. In a future version, integer keys will always be treated as labels (consistent with DataFrame behavior). To access a value by position, use `ser.iloc[pos]`\n",
      "  if pd.isnull(row[2]):\n",
      "C:\\Users\\swath\\AppData\\Local\\Temp\\ipykernel_10604\\3318736955.py:3: FutureWarning: Series.__getitem__ treating keys as positions is deprecated. In a future version, integer keys will always be treated as labels (consistent with DataFrame behavior). To access a value by position, use `ser.iloc[pos]`\n",
      "  if pd.isnull(row[2]):\n",
      "C:\\Users\\swath\\AppData\\Local\\Temp\\ipykernel_10604\\3318736955.py:3: FutureWarning: Series.__getitem__ treating keys as positions is deprecated. In a future version, integer keys will always be treated as labels (consistent with DataFrame behavior). To access a value by position, use `ser.iloc[pos]`\n",
      "  if pd.isnull(row[2]):\n",
      "C:\\Users\\swath\\AppData\\Local\\Temp\\ipykernel_10604\\3318736955.py:3: FutureWarning: Series.__getitem__ treating keys as positions is deprecated. In a future version, integer keys will always be treated as labels (consistent with DataFrame behavior). To access a value by position, use `ser.iloc[pos]`\n",
      "  if pd.isnull(row[2]):\n",
      "C:\\Users\\swath\\AppData\\Local\\Temp\\ipykernel_10604\\3318736955.py:3: FutureWarning: Series.__getitem__ treating keys as positions is deprecated. In a future version, integer keys will always be treated as labels (consistent with DataFrame behavior). To access a value by position, use `ser.iloc[pos]`\n",
      "  if pd.isnull(row[2]):\n",
      "C:\\Users\\swath\\AppData\\Local\\Temp\\ipykernel_10604\\3318736955.py:3: FutureWarning: Series.__getitem__ treating keys as positions is deprecated. In a future version, integer keys will always be treated as labels (consistent with DataFrame behavior). To access a value by position, use `ser.iloc[pos]`\n",
      "  if pd.isnull(row[2]):\n",
      "C:\\Users\\swath\\AppData\\Local\\Temp\\ipykernel_10604\\3318736955.py:3: FutureWarning: Series.__getitem__ treating keys as positions is deprecated. In a future version, integer keys will always be treated as labels (consistent with DataFrame behavior). To access a value by position, use `ser.iloc[pos]`\n",
      "  if pd.isnull(row[2]):\n",
      "C:\\Users\\swath\\AppData\\Local\\Temp\\ipykernel_10604\\3318736955.py:3: FutureWarning: Series.__getitem__ treating keys as positions is deprecated. In a future version, integer keys will always be treated as labels (consistent with DataFrame behavior). To access a value by position, use `ser.iloc[pos]`\n",
      "  if pd.isnull(row[2]):\n",
      "C:\\Users\\swath\\AppData\\Local\\Temp\\ipykernel_10604\\3318736955.py:3: FutureWarning: Series.__getitem__ treating keys as positions is deprecated. In a future version, integer keys will always be treated as labels (consistent with DataFrame behavior). To access a value by position, use `ser.iloc[pos]`\n",
      "  if pd.isnull(row[2]):\n",
      "C:\\Users\\swath\\AppData\\Local\\Temp\\ipykernel_10604\\3318736955.py:3: FutureWarning: Series.__getitem__ treating keys as positions is deprecated. In a future version, integer keys will always be treated as labels (consistent with DataFrame behavior). To access a value by position, use `ser.iloc[pos]`\n",
      "  if pd.isnull(row[2]):\n",
      "C:\\Users\\swath\\AppData\\Local\\Temp\\ipykernel_10604\\3318736955.py:3: FutureWarning: Series.__getitem__ treating keys as positions is deprecated. In a future version, integer keys will always be treated as labels (consistent with DataFrame behavior). To access a value by position, use `ser.iloc[pos]`\n",
      "  if pd.isnull(row[2]):\n",
      "C:\\Users\\swath\\AppData\\Local\\Temp\\ipykernel_10604\\3318736955.py:3: FutureWarning: Series.__getitem__ treating keys as positions is deprecated. In a future version, integer keys will always be treated as labels (consistent with DataFrame behavior). To access a value by position, use `ser.iloc[pos]`\n",
      "  if pd.isnull(row[2]):\n"
     ]
    }
   ],
   "source": [
    "df_new = df\n",
    "for index, row in df.iterrows():\n",
    "        if pd.isnull(row[2]):\n",
    "            df_new.iloc[index, 2] = math.sqrt((df_new.iloc[index - 1, 2])*(df_new.iloc[index + 1, 2]))"
   ]
  },
  {
   "cell_type": "code",
   "execution_count": 8,
   "id": "c02ac350-79fe-4880-a3a7-c7eea6fdca4d",
   "metadata": {},
   "outputs": [
    {
     "name": "stderr",
     "output_type": "stream",
     "text": [
      "C:\\Users\\swath\\AppData\\Local\\Temp\\ipykernel_10604\\2470326655.py:3: FutureWarning: Series.__getitem__ treating keys as positions is deprecated. In a future version, integer keys will always be treated as labels (consistent with DataFrame behavior). To access a value by position, use `ser.iloc[pos]`\n",
      "  if pd.isnull(row[3]):\n",
      "C:\\Users\\swath\\AppData\\Local\\Temp\\ipykernel_10604\\2470326655.py:3: FutureWarning: Series.__getitem__ treating keys as positions is deprecated. In a future version, integer keys will always be treated as labels (consistent with DataFrame behavior). To access a value by position, use `ser.iloc[pos]`\n",
      "  if pd.isnull(row[3]):\n",
      "C:\\Users\\swath\\AppData\\Local\\Temp\\ipykernel_10604\\2470326655.py:3: FutureWarning: Series.__getitem__ treating keys as positions is deprecated. In a future version, integer keys will always be treated as labels (consistent with DataFrame behavior). To access a value by position, use `ser.iloc[pos]`\n",
      "  if pd.isnull(row[3]):\n",
      "C:\\Users\\swath\\AppData\\Local\\Temp\\ipykernel_10604\\2470326655.py:3: FutureWarning: Series.__getitem__ treating keys as positions is deprecated. In a future version, integer keys will always be treated as labels (consistent with DataFrame behavior). To access a value by position, use `ser.iloc[pos]`\n",
      "  if pd.isnull(row[3]):\n",
      "C:\\Users\\swath\\AppData\\Local\\Temp\\ipykernel_10604\\2470326655.py:3: FutureWarning: Series.__getitem__ treating keys as positions is deprecated. In a future version, integer keys will always be treated as labels (consistent with DataFrame behavior). To access a value by position, use `ser.iloc[pos]`\n",
      "  if pd.isnull(row[3]):\n",
      "C:\\Users\\swath\\AppData\\Local\\Temp\\ipykernel_10604\\2470326655.py:3: FutureWarning: Series.__getitem__ treating keys as positions is deprecated. In a future version, integer keys will always be treated as labels (consistent with DataFrame behavior). To access a value by position, use `ser.iloc[pos]`\n",
      "  if pd.isnull(row[3]):\n",
      "C:\\Users\\swath\\AppData\\Local\\Temp\\ipykernel_10604\\2470326655.py:3: FutureWarning: Series.__getitem__ treating keys as positions is deprecated. In a future version, integer keys will always be treated as labels (consistent with DataFrame behavior). To access a value by position, use `ser.iloc[pos]`\n",
      "  if pd.isnull(row[3]):\n",
      "C:\\Users\\swath\\AppData\\Local\\Temp\\ipykernel_10604\\2470326655.py:3: FutureWarning: Series.__getitem__ treating keys as positions is deprecated. In a future version, integer keys will always be treated as labels (consistent with DataFrame behavior). To access a value by position, use `ser.iloc[pos]`\n",
      "  if pd.isnull(row[3]):\n",
      "C:\\Users\\swath\\AppData\\Local\\Temp\\ipykernel_10604\\2470326655.py:3: FutureWarning: Series.__getitem__ treating keys as positions is deprecated. In a future version, integer keys will always be treated as labels (consistent with DataFrame behavior). To access a value by position, use `ser.iloc[pos]`\n",
      "  if pd.isnull(row[3]):\n",
      "C:\\Users\\swath\\AppData\\Local\\Temp\\ipykernel_10604\\2470326655.py:3: FutureWarning: Series.__getitem__ treating keys as positions is deprecated. In a future version, integer keys will always be treated as labels (consistent with DataFrame behavior). To access a value by position, use `ser.iloc[pos]`\n",
      "  if pd.isnull(row[3]):\n",
      "C:\\Users\\swath\\AppData\\Local\\Temp\\ipykernel_10604\\2470326655.py:3: FutureWarning: Series.__getitem__ treating keys as positions is deprecated. In a future version, integer keys will always be treated as labels (consistent with DataFrame behavior). To access a value by position, use `ser.iloc[pos]`\n",
      "  if pd.isnull(row[3]):\n",
      "C:\\Users\\swath\\AppData\\Local\\Temp\\ipykernel_10604\\2470326655.py:3: FutureWarning: Series.__getitem__ treating keys as positions is deprecated. In a future version, integer keys will always be treated as labels (consistent with DataFrame behavior). To access a value by position, use `ser.iloc[pos]`\n",
      "  if pd.isnull(row[3]):\n",
      "C:\\Users\\swath\\AppData\\Local\\Temp\\ipykernel_10604\\2470326655.py:3: FutureWarning: Series.__getitem__ treating keys as positions is deprecated. In a future version, integer keys will always be treated as labels (consistent with DataFrame behavior). To access a value by position, use `ser.iloc[pos]`\n",
      "  if pd.isnull(row[3]):\n",
      "C:\\Users\\swath\\AppData\\Local\\Temp\\ipykernel_10604\\2470326655.py:3: FutureWarning: Series.__getitem__ treating keys as positions is deprecated. In a future version, integer keys will always be treated as labels (consistent with DataFrame behavior). To access a value by position, use `ser.iloc[pos]`\n",
      "  if pd.isnull(row[3]):\n",
      "C:\\Users\\swath\\AppData\\Local\\Temp\\ipykernel_10604\\2470326655.py:3: FutureWarning: Series.__getitem__ treating keys as positions is deprecated. In a future version, integer keys will always be treated as labels (consistent with DataFrame behavior). To access a value by position, use `ser.iloc[pos]`\n",
      "  if pd.isnull(row[3]):\n",
      "C:\\Users\\swath\\AppData\\Local\\Temp\\ipykernel_10604\\2470326655.py:3: FutureWarning: Series.__getitem__ treating keys as positions is deprecated. In a future version, integer keys will always be treated as labels (consistent with DataFrame behavior). To access a value by position, use `ser.iloc[pos]`\n",
      "  if pd.isnull(row[3]):\n",
      "C:\\Users\\swath\\AppData\\Local\\Temp\\ipykernel_10604\\2470326655.py:3: FutureWarning: Series.__getitem__ treating keys as positions is deprecated. In a future version, integer keys will always be treated as labels (consistent with DataFrame behavior). To access a value by position, use `ser.iloc[pos]`\n",
      "  if pd.isnull(row[3]):\n",
      "C:\\Users\\swath\\AppData\\Local\\Temp\\ipykernel_10604\\2470326655.py:3: FutureWarning: Series.__getitem__ treating keys as positions is deprecated. In a future version, integer keys will always be treated as labels (consistent with DataFrame behavior). To access a value by position, use `ser.iloc[pos]`\n",
      "  if pd.isnull(row[3]):\n"
     ]
    }
   ],
   "source": [
    "df_new_1 = df_new\n",
    "for index, row in df_new.iterrows():\n",
    "        if pd.isnull(row[3]):\n",
    "            df_new_1.iloc[index, 3] = math.sqrt((df_new_1.iloc[index - 1, 3])*(df_new_1.iloc[index + 1, 3]))"
   ]
  },
  {
   "cell_type": "code",
   "execution_count": 9,
   "id": "5556b055-05a6-445d-b96e-1ca61ce0b615",
   "metadata": {},
   "outputs": [
    {
     "name": "stderr",
     "output_type": "stream",
     "text": [
      "C:\\Users\\swath\\AppData\\Local\\Temp\\ipykernel_10604\\3848831893.py:3: FutureWarning: Series.__getitem__ treating keys as positions is deprecated. In a future version, integer keys will always be treated as labels (consistent with DataFrame behavior). To access a value by position, use `ser.iloc[pos]`\n",
      "  if pd.isnull(row[0]):\n",
      "C:\\Users\\swath\\AppData\\Local\\Temp\\ipykernel_10604\\3848831893.py:3: FutureWarning: Series.__getitem__ treating keys as positions is deprecated. In a future version, integer keys will always be treated as labels (consistent with DataFrame behavior). To access a value by position, use `ser.iloc[pos]`\n",
      "  if pd.isnull(row[0]):\n",
      "C:\\Users\\swath\\AppData\\Local\\Temp\\ipykernel_10604\\3848831893.py:3: FutureWarning: Series.__getitem__ treating keys as positions is deprecated. In a future version, integer keys will always be treated as labels (consistent with DataFrame behavior). To access a value by position, use `ser.iloc[pos]`\n",
      "  if pd.isnull(row[0]):\n",
      "C:\\Users\\swath\\AppData\\Local\\Temp\\ipykernel_10604\\3848831893.py:3: FutureWarning: Series.__getitem__ treating keys as positions is deprecated. In a future version, integer keys will always be treated as labels (consistent with DataFrame behavior). To access a value by position, use `ser.iloc[pos]`\n",
      "  if pd.isnull(row[0]):\n",
      "C:\\Users\\swath\\AppData\\Local\\Temp\\ipykernel_10604\\3848831893.py:3: FutureWarning: Series.__getitem__ treating keys as positions is deprecated. In a future version, integer keys will always be treated as labels (consistent with DataFrame behavior). To access a value by position, use `ser.iloc[pos]`\n",
      "  if pd.isnull(row[0]):\n",
      "C:\\Users\\swath\\AppData\\Local\\Temp\\ipykernel_10604\\3848831893.py:3: FutureWarning: Series.__getitem__ treating keys as positions is deprecated. In a future version, integer keys will always be treated as labels (consistent with DataFrame behavior). To access a value by position, use `ser.iloc[pos]`\n",
      "  if pd.isnull(row[0]):\n",
      "C:\\Users\\swath\\AppData\\Local\\Temp\\ipykernel_10604\\3848831893.py:3: FutureWarning: Series.__getitem__ treating keys as positions is deprecated. In a future version, integer keys will always be treated as labels (consistent with DataFrame behavior). To access a value by position, use `ser.iloc[pos]`\n",
      "  if pd.isnull(row[0]):\n",
      "C:\\Users\\swath\\AppData\\Local\\Temp\\ipykernel_10604\\3848831893.py:3: FutureWarning: Series.__getitem__ treating keys as positions is deprecated. In a future version, integer keys will always be treated as labels (consistent with DataFrame behavior). To access a value by position, use `ser.iloc[pos]`\n",
      "  if pd.isnull(row[0]):\n",
      "C:\\Users\\swath\\AppData\\Local\\Temp\\ipykernel_10604\\3848831893.py:3: FutureWarning: Series.__getitem__ treating keys as positions is deprecated. In a future version, integer keys will always be treated as labels (consistent with DataFrame behavior). To access a value by position, use `ser.iloc[pos]`\n",
      "  if pd.isnull(row[0]):\n",
      "C:\\Users\\swath\\AppData\\Local\\Temp\\ipykernel_10604\\3848831893.py:3: FutureWarning: Series.__getitem__ treating keys as positions is deprecated. In a future version, integer keys will always be treated as labels (consistent with DataFrame behavior). To access a value by position, use `ser.iloc[pos]`\n",
      "  if pd.isnull(row[0]):\n",
      "C:\\Users\\swath\\AppData\\Local\\Temp\\ipykernel_10604\\3848831893.py:3: FutureWarning: Series.__getitem__ treating keys as positions is deprecated. In a future version, integer keys will always be treated as labels (consistent with DataFrame behavior). To access a value by position, use `ser.iloc[pos]`\n",
      "  if pd.isnull(row[0]):\n",
      "C:\\Users\\swath\\AppData\\Local\\Temp\\ipykernel_10604\\3848831893.py:3: FutureWarning: Series.__getitem__ treating keys as positions is deprecated. In a future version, integer keys will always be treated as labels (consistent with DataFrame behavior). To access a value by position, use `ser.iloc[pos]`\n",
      "  if pd.isnull(row[0]):\n",
      "C:\\Users\\swath\\AppData\\Local\\Temp\\ipykernel_10604\\3848831893.py:3: FutureWarning: Series.__getitem__ treating keys as positions is deprecated. In a future version, integer keys will always be treated as labels (consistent with DataFrame behavior). To access a value by position, use `ser.iloc[pos]`\n",
      "  if pd.isnull(row[0]):\n"
     ]
    }
   ],
   "source": [
    "df_new_2 = df_new_1\n",
    "for index, row in df_new_1.iterrows():\n",
    "        if pd.isnull(row[0]):\n",
    "            df_new_2 = df_new_2.drop(index, axis = 0)"
   ]
  },
  {
   "cell_type": "code",
   "execution_count": 10,
   "id": "cf1e7995-53f3-42b9-adb9-1bf7dcabd550",
   "metadata": {},
   "outputs": [
    {
     "name": "stderr",
     "output_type": "stream",
     "text": [
      "C:\\Users\\swath\\AppData\\Local\\Temp\\ipykernel_10604\\2860943219.py:3: FutureWarning: Series.__getitem__ treating keys as positions is deprecated. In a future version, integer keys will always be treated as labels (consistent with DataFrame behavior). To access a value by position, use `ser.iloc[pos]`\n",
      "  if pd.isnull(row[1]):\n",
      "C:\\Users\\swath\\AppData\\Local\\Temp\\ipykernel_10604\\2860943219.py:3: FutureWarning: Series.__getitem__ treating keys as positions is deprecated. In a future version, integer keys will always be treated as labels (consistent with DataFrame behavior). To access a value by position, use `ser.iloc[pos]`\n",
      "  if pd.isnull(row[1]):\n",
      "C:\\Users\\swath\\AppData\\Local\\Temp\\ipykernel_10604\\2860943219.py:3: FutureWarning: Series.__getitem__ treating keys as positions is deprecated. In a future version, integer keys will always be treated as labels (consistent with DataFrame behavior). To access a value by position, use `ser.iloc[pos]`\n",
      "  if pd.isnull(row[1]):\n",
      "C:\\Users\\swath\\AppData\\Local\\Temp\\ipykernel_10604\\2860943219.py:3: FutureWarning: Series.__getitem__ treating keys as positions is deprecated. In a future version, integer keys will always be treated as labels (consistent with DataFrame behavior). To access a value by position, use `ser.iloc[pos]`\n",
      "  if pd.isnull(row[1]):\n"
     ]
    }
   ],
   "source": [
    "df_new_3 = df_new_2\n",
    "for index, row in df_new_2.iterrows():\n",
    "        if pd.isnull(row[1]):\n",
    "            df_new_3 = df_new_3.drop(index, axis = 0)"
   ]
  },
  {
   "cell_type": "code",
   "execution_count": 11,
   "id": "689ed820-e92b-4519-b791-f77ef9bdb906",
   "metadata": {},
   "outputs": [],
   "source": [
    "df_new_3.to_csv(\"_IITK_Courses_Report.csv\")"
   ]
  }
 ],
 "metadata": {
  "kernelspec": {
   "display_name": "Python(food101)",
   "language": "python",
   "name": "food101"
  },
  "language_info": {
   "codemirror_mode": {
    "name": "ipython",
    "version": 3
   },
   "file_extension": ".py",
   "mimetype": "text/x-python",
   "name": "python",
   "nbconvert_exporter": "python",
   "pygments_lexer": "ipython3",
   "version": "3.13.0"
  }
 },
 "nbformat": 4,
 "nbformat_minor": 5
}