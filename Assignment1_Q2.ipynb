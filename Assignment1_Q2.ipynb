{
 "cells": [
  {
   "cell_type": "code",
   "execution_count": 1,
   "id": "b18cea56-267f-499e-91f8-a983cf05949e",
   "metadata": {},
   "outputs": [],
   "source": [
    "import cv2\n",
    "import numpy as np\n",
    "import pandas as pd\n",
    "import matplotlib.pyplot as plt"
   ]
  },
  {
   "cell_type": "code",
   "execution_count": 2,
   "id": "e7768aae-770f-4f99-9936-1ad8759def1e",
   "metadata": {},
   "outputs": [],
   "source": [
    "df = pd.read_csv('california_housing_train.csv')\n",
    "y_true = df['median_house_value']\n",
    "number_of_epochs = 1000\n",
    "learning_rate = 0.01"
   ]
  },
  {
   "cell_type": "code",
   "execution_count": 3,
   "id": "ece53a34-4011-44e9-9b2f-a780a50ed98c",
   "metadata": {},
   "outputs": [],
   "source": [
    "def loss(y_pre,y):\n",
    "    MSE = np.mean((y - y_pre)**2)\n",
    "    return MSE"
   ]
  },
  {
   "cell_type": "code",
   "execution_count": 4,
   "id": "230dc83b-9cd7-456e-be59-9226224e3079",
   "metadata": {},
   "outputs": [],
   "source": [
    "def y_prediction(a,x,b):\n",
    "    y_prediction = np.dot(a,x)+b\n",
    "    return y_prediction"
   ]
  },
  {
   "cell_type": "code",
   "execution_count": 5,
   "id": "f023f2f3-37d2-4379-b7be-84140860b185",
   "metadata": {},
   "outputs": [],
   "source": [
    "def gradient(a,x,b,y_true):\n",
    "    y_pred = y_prediction(a,x,b)\n",
    "    diff_bias = (-2*(y_true - y_pred))/len(y_true)\n",
    "    diff_weights = ((-2*(y_true - y_pred))*x)/len(y_true)\n",
    "    return diff_bias,diff_weights"
   ]
  },
  {
   "cell_type": "code",
   "execution_count": 6,
   "id": "caa1bea3-6bca-4158-be7f-3bb8f4f718cd",
   "metadata": {},
   "outputs": [],
   "source": [
    "def gradient_descent(x,y_true,learning_rate,number_of_epochs):\n",
    "    a = np.random.rand(x.shape[0],1)\n",
    "    b = 0\n",
    "    train_loss = []\n",
    "    for i in range(number_of_epochs):\n",
    "        diff_bias,diff_weights = gradient(a,x,b,y_true)\n",
    "        a -= learning_rate*diff_weights\n",
    "        b -= learning_rate*diff_weights\n",
    "        current_loss = loss(y_prediction(a,x,b),y_true)\n",
    "        train_loss.append(current_loss)\n",
    "        if epoch % 10 == 0 :\n",
    "            print(f\"epoch : {number_of_epochs} , loss : {current_loss}\")\n",
    "    return a,b,train_loss"
   ]
  }
 ],
 "metadata": {
  "kernelspec": {
   "display_name": "Python(food101)",
   "language": "python",
   "name": "food101"
  },
  "language_info": {
   "codemirror_mode": {
    "name": "ipython",
    "version": 3
   },
   "file_extension": ".py",
   "mimetype": "text/x-python",
   "name": "python",
   "nbconvert_exporter": "python",
   "pygments_lexer": "ipython3",
   "version": "3.13.0"
  }
 },
 "nbformat": 4,
 "nbformat_minor": 5
}
