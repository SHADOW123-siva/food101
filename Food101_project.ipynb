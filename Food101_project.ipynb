{
  "cells": [
    {
      "cell_type": "code",
      "source": [
        "!git clone https://github.com/Bhavnoor-Coders-1010/food101.git"
      ],
      "metadata": {
        "id": "cFjNFp9dKfeZ",
        "colab": {
          "base_uri": "https://localhost:8080/"
        },
        "outputId": "59f6f3aa-d6ea-4a45-cdb6-57dec17d4bc6"
      },
      "execution_count": null,
      "outputs": [
        {
          "output_type": "stream",
          "name": "stdout",
          "text": [
            "fatal: destination path 'food101' already exists and is not an empty directory.\n"
          ]
        }
      ]
    },
    {
      "cell_type": "code",
      "execution_count": null,
      "metadata": {
        "id": "x_zLgdGqLQxd",
        "colab": {
          "base_uri": "https://localhost:8080/"
        },
        "outputId": "ae0c9caf-8770-4a92-92fb-85ffdc48b691"
      },
      "outputs": [
        {
          "output_type": "stream",
          "name": "stdout",
          "text": [
            "/content/food101\n"
          ]
        }
      ],
      "source": [
        "%cd food101"
      ]
    },
    {
      "cell_type": "code",
      "execution_count": null,
      "metadata": {
        "id": "W8JiZ8glIVDr",
        "colab": {
          "base_uri": "https://localhost:8080/"
        },
        "outputId": "bb3b9fed-8a8d-4a5a-af51-353e3fc4fb04"
      },
      "outputs": [
        {
          "output_type": "stream",
          "name": "stdout",
          "text": [
            "model_epoch_01.keras  model_epoch_02.keras  model_epoch_09.keras\n"
          ]
        }
      ],
      "source": [
        "%ls models"
      ]
    },
    {
      "cell_type": "code",
      "execution_count": null,
      "metadata": {
        "id": "bNcnATbJLuS_"
      },
      "outputs": [],
      "source": [
        "import numpy as np\n",
        "import pandas as pd\n",
        "from tensorflow import keras\n",
        "from tensorflow.keras import layers,models\n",
        "import matplotlib.pyplot as plt\n",
        "import os"
      ]
    },
    {
      "cell_type": "code",
      "execution_count": null,
      "metadata": {
        "id": "iTUmhC6vL1v0",
        "colab": {
          "base_uri": "https://localhost:8080/"
        },
        "outputId": "f55abc6a-39d5-4b07-f8c6-0469fb8d96de"
      },
      "outputs": [
        {
          "output_type": "stream",
          "name": "stdout",
          "text": [
            "  imagePath  label\n",
            "0  0342.jpg      2\n",
            "1  1077.jpg      0\n",
            "2  2314.jpg     11\n",
            "3  3068.jpg      0\n",
            "4  4121.jpg     13\n",
            "   Unnamed: 0 imagePath  label\n",
            "0           0  0205.jpg      5\n",
            "1           1  1134.jpg      3\n",
            "2           2  2231.jpg      5\n",
            "3           3  3401.jpg      4\n",
            "4           4  4280.jpg     10\n"
          ]
        }
      ],
      "source": [
        "df = pd.read_csv('DataFOOD101/train.csv')\n",
        "train_df=df.copy()\n",
        "df_2 = pd.read_csv('DataFOOD101/test.csv')\n",
        "test_df=df_2.copy()\n",
        "\n",
        "print(train_df.head())\n",
        "\n",
        "print(test_df.head())\n",
        "\n",
        "\n",
        "image_folder_train = 'DataFOOD101/Train/'\n",
        "image_folder_test = 'DataFOOD101/Test/'\n",
        "\n",
        "class_names = {\n",
        "  0 : \"burger\",\n",
        "  1 : \"butter_naan\",\n",
        "  2 : \"chai\",\n",
        "  3 : \"chapati\",\n",
        "  4 : \"chole_bhature\",\n",
        "  5 : \"dal_makhani\",\n",
        "  6 : \"dhokla\",\n",
        "  7 : \"fried_rice\",\n",
        "  8 : \"idli\",\n",
        "  9 : \"jalebi\",\n",
        "  10 : \"kadhai_paneer\",\n",
        "  11 : \"kathi_roll\",\n",
        "  12 : \"kulfi\",\n",
        "  13 : \"masala_dosa\",\n",
        "  14 : \"momos\",\n",
        "  15 : \"paani_puri\",\n",
        "  16 : \"pakode\",\n",
        "  17 : \"pav_bhaji\",\n",
        "  18 : \"pizza\",\n",
        "  19 : \"samosa\"\n",
        "}\n",
        "\n",
        "for food in class_names.values():\n",
        "  os.makedirs(os.path.join(image_folder_train, food), exist_ok = True)\n",
        "  os.makedirs(os.path.join(image_folder_test, food), exist_ok = True)\n",
        "\n",
        "for i, row in train_df.iterrows():\n",
        "  image_path = os.path.join(image_folder_train + row[\"imagePath\"])\n",
        "  new_path = os.path.join(image_folder_train, f\"{class_names[row['label']]}/\" + row[\"imagePath\"])\n",
        "  if(os.path.isfile(image_path)):\n",
        "    os.replace(image_path, new_path)\n",
        "\n",
        "for i, row in test_df.iterrows():\n",
        "  image_path = os.path.join(image_folder_test + row[\"imagePath\"])\n",
        "  new_path = os.path.join(image_folder_test, f\"{class_names[row['label']]}/\" + row[\"imagePath\"])\n",
        "  if(os.path.isfile(image_path)):\n",
        "    os.replace(image_path, new_path)"
      ]
    },
    {
      "cell_type": "code",
      "execution_count": null,
      "metadata": {
        "id": "RM1aCvK-MuZT",
        "colab": {
          "base_uri": "https://localhost:8080/"
        },
        "outputId": "4e2b29f6-c4a1-4e6b-9337-ba2fd003211f"
      },
      "outputs": [
        {
          "output_type": "stream",
          "name": "stdout",
          "text": [
            "Found 4260 images belonging to 20 classes.\n",
            "Found 1054 images belonging to 20 classes.\n"
          ]
        }
      ],
      "source": [
        "from tensorflow.keras.preprocessing.image import ImageDataGenerator\n",
        "\n",
        "batch_size = 32\n",
        "IMG_SIZE = (224, 224)\n",
        "\n",
        "train_datagen = ImageDataGenerator(rescale=1. / 255,\n",
        "                                   validation_split=0.2,\n",
        "                                   rotation_range=30,\n",
        "                                   shear_range=0.2,\n",
        "                                   zoom_range=0.2,\n",
        "                                   horizontal_flip=True)\n",
        "\n",
        "train_generator = train_datagen.flow_from_directory(image_folder_train,\n",
        "                                                           target_size = IMG_SIZE,\n",
        "                                                           class_mode='sparse',\n",
        "                                                           batch_size = batch_size,\n",
        "                                                           subset='training',\n",
        "                                                           shuffle=True)\n",
        "\n",
        "validation_generator = train_datagen.flow_from_directory(image_folder_train,\n",
        "                                                           target_size = IMG_SIZE,\n",
        "                                                           class_mode='sparse',\n",
        "                                                           batch_size = batch_size,\n",
        "                                                           subset='validation',\n",
        "                                                           shuffle=True)\n",
        "# test_data_augmentor = ImageDataGenerator(rescale = 1. / 255)\n",
        "# test_generator = test_data_augmentor.flow_from_directory(image_folder_test,\n",
        "#                                                            target_size = IMG_SIZE,\n",
        "#                                                            batch_size = batch_size,\n",
        "#                                                            class_mode = 'categorical')"
      ]
    },
    {
      "cell_type": "code",
      "execution_count": null,
      "metadata": {
        "id": "bWxxOML1M7Ys",
        "colab": {
          "base_uri": "https://localhost:8080/"
        },
        "outputId": "b8b92f03-9ed4-4e13-ab38-93542b86edcb"
      },
      "outputs": [
        {
          "output_type": "execute_result",
          "data": {
            "text/plain": [
              "{'burger': 0,\n",
              " 'butter_naan': 1,\n",
              " 'chai': 2,\n",
              " 'chapati': 3,\n",
              " 'chole_bhature': 4,\n",
              " 'dal_makhani': 5,\n",
              " 'dhokla': 6,\n",
              " 'fried_rice': 7,\n",
              " 'idli': 8,\n",
              " 'jalebi': 9,\n",
              " 'kadhai_paneer': 10,\n",
              " 'kathi_roll': 11,\n",
              " 'kulfi': 12,\n",
              " 'masala_dosa': 13,\n",
              " 'momos': 14,\n",
              " 'paani_puri': 15,\n",
              " 'pakode': 16,\n",
              " 'pav_bhaji': 17,\n",
              " 'pizza': 18,\n",
              " 'samosa': 19}"
            ]
          },
          "metadata": {},
          "execution_count": 7
        }
      ],
      "source": [
        "class_map = train_generator.class_indices\n",
        "class_map #kadhai_paneer and kathi_roll are swapped as compared to `class_names`."
      ]
    },
    {
      "cell_type": "code",
      "execution_count": null,
      "metadata": {
        "id": "voIOZVgnNf-m"
      },
      "outputs": [],
      "source": [
        "from tensorflow.keras import layers, models\n",
        "from tensorflow.keras.applications import MobileNetV2\n",
        "\n",
        "base_model = MobileNetV2(weights='imagenet', include_top=False, input_shape=IMG_SIZE+(3,))\n",
        "\n",
        "for layer in base_model.layers:\n",
        "    layer.trainable = False\n",
        "\n",
        "model = models.Sequential([\n",
        "    base_model,\n",
        "    layers.Flatten(),\n",
        "    layers.BatchNormalization(),\n",
        "    layers.Dense(units=128, activation='relu'),\n",
        "    layers.BatchNormalization(),\n",
        "    layers.Dropout(0.2),\n",
        "    layers.Dense(units=20, activation='softmax')\n",
        "])"
      ]
    },
    {
      "cell_type": "code",
      "execution_count": null,
      "metadata": {
        "id": "K4PLDzZXdjah",
        "colab": {
          "base_uri": "https://localhost:8080/"
        },
        "outputId": "df0f048d-ecdc-47f4-a4fc-090426a5fcc7"
      },
      "outputs": [
        {
          "metadata": {
            "tags": null
          },
          "name": "stdout",
          "output_type": "stream",
          "text": [
            "Epoch 1/25\n"
          ]
        },
        {
          "metadata": {
            "tags": null
          },
          "name": "stderr",
          "output_type": "stream",
          "text": [
            "/usr/local/lib/python3.10/dist-packages/keras/src/trainers/data_adapters/py_dataset_adapter.py:122: UserWarning: Your `PyDataset` class should call `super().__init__(**kwargs)` in its constructor. `**kwargs` can include `workers`, `use_multiprocessing`, `max_queue_size`. Do not pass these arguments to `fit()`, as they will be ignored.\n",
            "  self._warn_if_super_not_called()\n"
          ]
        },
        {
          "output_type": "stream",
          "name": "stdout",
          "text": [
            "\u001b[1m134/134\u001b[0m \u001b[32m━━━━━━━━━━━━━━━━━━━━\u001b[0m\u001b[37m\u001b[0m \u001b[1m365s\u001b[0m 3s/step - accuracy: 0.5085 - loss: 1.8048 - val_accuracy: 0.7163 - val_loss: 1.1269\n",
            "Epoch 2/25\n",
            "\u001b[1m134/134\u001b[0m \u001b[32m━━━━━━━━━━━━━━━━━━━━\u001b[0m\u001b[37m\u001b[0m \u001b[1m366s\u001b[0m 3s/step - accuracy: 0.7707 - loss: 0.7598 - val_accuracy: 0.7647 - val_loss: 0.8997\n",
            "Epoch 3/25\n",
            "\u001b[1m134/134\u001b[0m \u001b[32m━━━━━━━━━━━━━━━━━━━━\u001b[0m\u001b[37m\u001b[0m \u001b[1m362s\u001b[0m 2s/step - accuracy: 0.8203 - loss: 0.5685 - val_accuracy: 0.7429 - val_loss: 1.1139\n",
            "Epoch 4/25\n",
            "\u001b[1m134/134\u001b[0m \u001b[32m━━━━━━━━━━━━━━━━━━━━\u001b[0m\u001b[37m\u001b[0m \u001b[1m321s\u001b[0m 2s/step - accuracy: 0.8407 - loss: 0.5105 - val_accuracy: 0.7533 - val_loss: 1.0140\n",
            "Epoch 5/25\n",
            "\u001b[1m134/134\u001b[0m \u001b[32m━━━━━━━━━━━━━━━━━━━━\u001b[0m\u001b[37m\u001b[0m \u001b[1m321s\u001b[0m 2s/step - accuracy: 0.8896 - loss: 0.3530 - val_accuracy: 0.7334 - val_loss: 1.1621\n",
            "Epoch 6/25\n",
            "\u001b[1m134/134\u001b[0m \u001b[32m━━━━━━━━━━━━━━━━━━━━\u001b[0m\u001b[37m\u001b[0m \u001b[1m322s\u001b[0m 2s/step - accuracy: 0.8890 - loss: 0.3385 - val_accuracy: 0.7448 - val_loss: 1.1036\n",
            "Epoch 7/25\n",
            "\u001b[1m134/134\u001b[0m \u001b[32m━━━━━━━━━━━━━━━━━━━━\u001b[0m\u001b[37m\u001b[0m \u001b[1m321s\u001b[0m 2s/step - accuracy: 0.9099 - loss: 0.2847 - val_accuracy: 0.7476 - val_loss: 1.1324\n",
            "Epoch 8/25\n",
            "\u001b[1m134/134\u001b[0m \u001b[32m━━━━━━━━━━━━━━━━━━━━\u001b[0m\u001b[37m\u001b[0m \u001b[1m324s\u001b[0m 2s/step - accuracy: 0.9144 - loss: 0.2628 - val_accuracy: 0.7666 - val_loss: 1.2377\n",
            "Epoch 9/25\n",
            "\u001b[1m134/134\u001b[0m \u001b[32m━━━━━━━━━━━━━━━━━━━━\u001b[0m\u001b[37m\u001b[0m \u001b[1m380s\u001b[0m 2s/step - accuracy: 0.9160 - loss: 0.2474 - val_accuracy: 0.7372 - val_loss: 1.2734\n",
            "Epoch 10/25\n",
            "\u001b[1m134/134\u001b[0m \u001b[32m━━━━━━━━━━━━━━━━━━━━\u001b[0m\u001b[37m\u001b[0m \u001b[1m321s\u001b[0m 2s/step - accuracy: 0.9214 - loss: 0.2294 - val_accuracy: 0.7097 - val_loss: 1.6730\n",
            "Epoch 11/25\n",
            "\u001b[1m134/134\u001b[0m \u001b[32m━━━━━━━━━━━━━━━━━━━━\u001b[0m\u001b[37m\u001b[0m \u001b[1m321s\u001b[0m 2s/step - accuracy: 0.9237 - loss: 0.2476 - val_accuracy: 0.7723 - val_loss: 1.1373\n",
            "Epoch 12/25\n",
            "\u001b[1m134/134\u001b[0m \u001b[32m━━━━━━━━━━━━━━━━━━━━\u001b[0m\u001b[37m\u001b[0m \u001b[1m339s\u001b[0m 3s/step - accuracy: 0.9294 - loss: 0.2263 - val_accuracy: 0.7676 - val_loss: 1.1171\n",
            "Epoch 13/25\n",
            "\u001b[1m134/134\u001b[0m \u001b[32m━━━━━━━━━━━━━━━━━━━━\u001b[0m\u001b[37m\u001b[0m \u001b[1m362s\u001b[0m 2s/step - accuracy: 0.9308 - loss: 0.2046 - val_accuracy: 0.7676 - val_loss: 1.1883\n",
            "Epoch 14/25\n",
            "\u001b[1m134/134\u001b[0m \u001b[32m━━━━━━━━━━━━━━━━━━━━\u001b[0m\u001b[37m\u001b[0m \u001b[1m326s\u001b[0m 2s/step - accuracy: 0.9437 - loss: 0.1709 - val_accuracy: 0.7780 - val_loss: 1.1798\n",
            "Epoch 15/25\n",
            "\u001b[1m134/134\u001b[0m \u001b[32m━━━━━━━━━━━━━━━━━━━━\u001b[0m\u001b[37m\u001b[0m \u001b[1m321s\u001b[0m 2s/step - accuracy: 0.9535 - loss: 0.1539 - val_accuracy: 0.7543 - val_loss: 1.2679\n",
            "Epoch 16/25\n",
            "\u001b[1m134/134\u001b[0m \u001b[32m━━━━━━━━━━━━━━━━━━━━\u001b[0m\u001b[37m\u001b[0m \u001b[1m316s\u001b[0m 2s/step - accuracy: 0.9409 - loss: 0.1784 - val_accuracy: 0.7552 - val_loss: 1.3312\n",
            "Epoch 17/25\n",
            "\u001b[1m134/134\u001b[0m \u001b[32m━━━━━━━━━━━━━━━━━━━━\u001b[0m\u001b[37m\u001b[0m \u001b[1m319s\u001b[0m 2s/step - accuracy: 0.9528 - loss: 0.1642 - val_accuracy: 0.7324 - val_loss: 1.4107\n",
            "Epoch 18/25\n",
            "\u001b[1m134/134\u001b[0m \u001b[32m━━━━━━━━━━━━━━━━━━━━\u001b[0m\u001b[37m\u001b[0m \u001b[1m317s\u001b[0m 2s/step - accuracy: 0.9439 - loss: 0.1724 - val_accuracy: 0.7429 - val_loss: 1.4168\n",
            "Epoch 19/25\n",
            "\u001b[1m134/134\u001b[0m \u001b[32m━━━━━━━━━━━━━━━━━━━━\u001b[0m\u001b[37m\u001b[0m \u001b[1m318s\u001b[0m 2s/step - accuracy: 0.9458 - loss: 0.1572 - val_accuracy: 0.7533 - val_loss: 1.2439\n",
            "Epoch 20/25\n",
            "\u001b[1m134/134\u001b[0m \u001b[32m━━━━━━━━━━━━━━━━━━━━\u001b[0m\u001b[37m\u001b[0m \u001b[1m320s\u001b[0m 2s/step - accuracy: 0.9414 - loss: 0.1676 - val_accuracy: 0.7467 - val_loss: 1.5431\n",
            "Epoch 21/25\n",
            "\u001b[1m134/134\u001b[0m \u001b[32m━━━━━━━━━━━━━━━━━━━━\u001b[0m\u001b[37m\u001b[0m \u001b[1m325s\u001b[0m 2s/step - accuracy: 0.9468 - loss: 0.1736 - val_accuracy: 0.7685 - val_loss: 1.2854\n",
            "Epoch 22/25\n",
            "\u001b[1m134/134\u001b[0m \u001b[32m━━━━━━━━━━━━━━━━━━━━\u001b[0m\u001b[37m\u001b[0m \u001b[1m341s\u001b[0m 3s/step - accuracy: 0.9517 - loss: 0.1594 - val_accuracy: 0.7676 - val_loss: 1.2909\n",
            "Epoch 23/25\n",
            "\u001b[1m134/134\u001b[0m \u001b[32m━━━━━━━━━━━━━━━━━━━━\u001b[0m\u001b[37m\u001b[0m \u001b[1m361s\u001b[0m 2s/step - accuracy: 0.9460 - loss: 0.1757 - val_accuracy: 0.7685 - val_loss: 1.3862\n",
            "Epoch 24/25\n",
            "\u001b[1m134/134\u001b[0m \u001b[32m━━━━━━━━━━━━━━━━━━━━\u001b[0m\u001b[37m\u001b[0m \u001b[1m322s\u001b[0m 2s/step - accuracy: 0.9475 - loss: 0.1529 - val_accuracy: 0.7600 - val_loss: 1.3967\n",
            "Epoch 25/25\n",
            "\u001b[1m134/134\u001b[0m \u001b[32m━━━━━━━━━━━━━━━━━━━━\u001b[0m\u001b[37m\u001b[0m \u001b[1m382s\u001b[0m 2s/step - accuracy: 0.9539 - loss: 0.1522 - val_accuracy: 0.7676 - val_loss: 1.3407\n"
          ]
        }
      ],
      "source": [
        "from keras.callbacks import ModelCheckpoint\n",
        "\n",
        "early_stopping = keras.callbacks.EarlyStopping(monitor='val_loss', patience=5, restore_best_weights=True)\n",
        "\n",
        "checkpoint_callback = ModelCheckpoint(\n",
        "    filepath='models/model_epoch_{epoch:02d}.keras',\n",
        "    monitor='val_accuracy',\n",
        "    save_best_only=True,\n",
        "    save_freq='epoch',\n",
        ")\n",
        "\n",
        "model.compile(\n",
        "    optimizer=keras.optimizers.Adam(learning_rate=0.01),\n",
        "    loss='sparse_categorical_crossentropy',\n",
        "    metrics=['accuracy']\n",
        ")\n",
        "\n",
        "trained_model = model.fit(\n",
        "    train_generator,\n",
        "    epochs=25,\n",
        "    validation_data=validation_generator,\n",
        "    callbacks=[checkpoint_callback]\n",
        ")"
      ]
    },
    {
      "cell_type": "code",
      "execution_count": null,
      "metadata": {
        "id": "s4kZRuLrRqRM"
      },
      "outputs": [],
      "source": [
        "untuned_model_save = model.save(\"models/MobileNetV2Untuned.keras\")"
      ]
    },
    {
      "cell_type": "code",
      "execution_count": null,
      "metadata": {
        "id": "5JE6LEHepFOW",
        "colab": {
          "base_uri": "https://localhost:8080/"
        },
        "outputId": "4633f130-7935-4888-ea52-63f1afbf8eba"
      },
      "outputs": [
        {
          "output_type": "stream",
          "name": "stdout",
          "text": [
            "Epoch 1/7\n",
            "\u001b[1m134/134\u001b[0m \u001b[32m━━━━━━━━━━━━━━━━━━━━\u001b[0m\u001b[37m\u001b[0m \u001b[1m387s\u001b[0m 3s/step - accuracy: 0.9560 - loss: 0.1170 - val_accuracy: 0.7713 - val_loss: 1.2876\n",
            "Epoch 2/7\n",
            "\u001b[1m134/134\u001b[0m \u001b[32m━━━━━━━━━━━━━━━━━━━━\u001b[0m\u001b[37m\u001b[0m \u001b[1m390s\u001b[0m 3s/step - accuracy: 0.9567 - loss: 0.1071 - val_accuracy: 0.7723 - val_loss: 1.2745\n",
            "Epoch 3/7\n",
            "\u001b[1m134/134\u001b[0m \u001b[32m━━━━━━━━━━━━━━━━━━━━\u001b[0m\u001b[37m\u001b[0m \u001b[1m422s\u001b[0m 3s/step - accuracy: 0.9624 - loss: 0.1205 - val_accuracy: 0.7619 - val_loss: 1.3517\n",
            "Epoch 4/7\n",
            "\u001b[1m134/134\u001b[0m \u001b[32m━━━━━━━━━━━━━━━━━━━━\u001b[0m\u001b[37m\u001b[0m \u001b[1m395s\u001b[0m 3s/step - accuracy: 0.9654 - loss: 0.1073 - val_accuracy: 0.7704 - val_loss: 1.4439\n",
            "Epoch 5/7\n",
            "\u001b[1m134/134\u001b[0m \u001b[32m━━━━━━━━━━━━━━━━━━━━\u001b[0m\u001b[37m\u001b[0m \u001b[1m369s\u001b[0m 3s/step - accuracy: 0.9667 - loss: 0.0999 - val_accuracy: 0.7723 - val_loss: 1.8273\n",
            "Epoch 6/7\n",
            "\u001b[1m134/134\u001b[0m \u001b[32m━━━━━━━━━━━━━━━━━━━━\u001b[0m\u001b[37m\u001b[0m \u001b[1m394s\u001b[0m 3s/step - accuracy: 0.9713 - loss: 0.0907 - val_accuracy: 0.7732 - val_loss: 2.1951\n",
            "Epoch 7/7\n",
            "\u001b[1m134/134\u001b[0m \u001b[32m━━━━━━━━━━━━━━━━━━━━\u001b[0m\u001b[37m\u001b[0m \u001b[1m380s\u001b[0m 3s/step - accuracy: 0.9741 - loss: 0.0682 - val_accuracy: 0.7704 - val_loss: 2.5007\n"
          ]
        }
      ],
      "source": [
        "for layer in base_model.layers[-20:]:\n",
        "  if not isinstance(layer, layers.BatchNormalization):\n",
        "    layer.trainable = True\n",
        "\n",
        "model.compile(optimizer=keras.optimizers.Adam(learning_rate=0.00001),\n",
        "              loss='sparse_categorical_crossentropy',\n",
        "              metrics=['accuracy'])\n",
        "\n",
        "trained_model_tuned = model.fit(\n",
        "    train_generator,\n",
        "    epochs=7,\n",
        "    validation_data=validation_generator,\n",
        "    callbacks=[checkpoint_callback]\n",
        ")"
      ]
    },
    {
      "cell_type": "code",
      "execution_count": null,
      "metadata": {
        "id": "Z-TgyertYT6z"
      },
      "outputs": [],
      "source": [
        "model.save(\"Food_classifier.keras\")"
      ]
    },
    {
      "cell_type": "code",
      "execution_count": null,
      "metadata": {
        "id": "K_cui5PRcgWh"
      },
      "outputs": [],
      "source": [
        "plt.plot(trained_model.history['accuracy'], label=\"Training accuracy\")\n",
        "plt.plot(trained_model.history['val_accuracy'], label=\"validation Accuracy\")\n",
        "plt.title(\"Model accuracy\")\n",
        "plt.xlabel(\"Epochs\")\n",
        "plt.ylabel(\"Accuracy\")\n",
        "plt.legend()\n",
        "plt.show()\n",
        "\n",
        "# Plot loss....\n",
        "plt.plot(trained_model.history['loss'], label=\"Training Loss\")\n",
        "plt.plot(trained_model.history['val_loss'], label=\"validation Loss\")\n",
        "plt.title(\"Model Loss\")\n",
        "plt.xlabel(\"Epochs\")\n",
        "plt.ylabel(\"Loss\")\n",
        "plt.legend()\n",
        "plt.show()"
      ]
    },
    {
      "cell_type": "code",
      "execution_count": null,
      "metadata": {
        "id": "veLvBpa1N8vF",
        "colab": {
          "base_uri": "https://localhost:8080/"
        },
        "outputId": "a9ebdc2a-e888-42cd-cfb4-09f0bec0b891"
      },
      "outputs": [
        {
          "output_type": "stream",
          "name": "stderr",
          "text": [
            "WARNING:absl:Compiled the loaded model, but the compiled metrics have yet to be built. `model.compile_metrics` will be empty until you train or evaluate the model.\n"
          ]
        }
      ],
      "source": [
        "from keras.preprocessing import image\n",
        "\n",
        "def predict(file_path, model):\n",
        "  img = image.load_img(file_path, target_size=IMG_SIZE)\n",
        "  img = image.img_to_array(img)\n",
        "  img = img / 255.0\n",
        "  img = np.expand_dims(axis=0)\n",
        "\n",
        "  prediction = model.predict(img)\n",
        "\n",
        "  predicted_class = class_map[np.argmax(prediction)]\n",
        "  return predicted_class\n",
        "\n",
        "saved_model = keras.models.load_model(\"Food_classifier.h5\")\n"
      ]
    },
    {
      "cell_type": "code",
      "execution_count": null,
      "metadata": {
        "id": "k6ZWhBuh1u97",
        "colab": {
          "base_uri": "https://localhost:8080/"
        },
        "outputId": "7602d380-4d19-46d1-f017-47a277540a5b"
      },
      "outputs": [
        {
          "output_type": "stream",
          "name": "stdout",
          "text": [
            "Found 939 images belonging to 20 classes.\n"
          ]
        }
      ],
      "source": [
        "test_datagen = ImageDataGenerator(rescale = 1./255)\n",
        "test_generator = test_datagen.flow_from_directory(image_folder_test,\n",
        "                                                           target_size = IMG_SIZE,\n",
        "                                                           class_mode='sparse',\n",
        "                                                           batch_size = batch_size)"
      ]
    },
    {
      "cell_type": "code",
      "execution_count": null,
      "metadata": {
        "id": "Q6q33WnKP3rf",
        "colab": {
          "base_uri": "https://localhost:8080/"
        },
        "outputId": "09f9044b-3768-4062-fdae-df9c5bf23485"
      },
      "outputs": [
        {
          "output_type": "stream",
          "name": "stdout",
          "text": [
            "\u001b[1m30/30\u001b[0m \u001b[32m━━━━━━━━━━━━━━━━━━━━\u001b[0m\u001b[37m\u001b[0m \u001b[1m49s\u001b[0m 2s/step - accuracy: 0.8150 - loss: 5.2487\n",
            "evaluate compile_metrics: 79.87%\n"
          ]
        }
      ],
      "source": [
        "scores = saved_model.evaluate(test_generator)\n",
        "print(\"%s%s: %.2f%%\" % (\"evaluate \",saved_model.metrics_names[1], scores[1]*100))\n"
      ]
    },
    {
      "cell_type": "code",
      "execution_count": null,
      "metadata": {
        "id": "5lRbvcNlIRhc",
        "colab": {
          "base_uri": "https://localhost:8080/",
          "height": 53
        },
        "outputId": "653f5b1e-3938-4e25-bd0d-ad51fc1a3a6c"
      },
      "outputs": [
        {
          "output_type": "stream",
          "name": "stdout",
          "text": [
            "\u001b[1m1/1\u001b[0m \u001b[32m━━━━━━━━━━━━━━━━━━━━\u001b[0m\u001b[37m\u001b[0m \u001b[1m1s\u001b[0m 1s/step\n"
          ]
        },
        {
          "output_type": "execute_result",
          "data": {
            "text/plain": [
              "'dhokla'"
            ],
            "application/vnd.google.colaboratory.intrinsic+json": {
              "type": "string"
            }
          },
          "metadata": {},
          "execution_count": 23
        }
      ],
      "source": [
        "import cv2\n",
        "def pred_img(img_path):\n",
        "  img = cv2.imread(img_path)\n",
        "  resize_img = cv2.resize(img, (224,224))\n",
        "  normalize_img = resize_img / 255\n",
        "  img_array = np.array(normalize_img)\n",
        "  img_array = np.expand_dims(img_array, axis=0)\n",
        "  prediction = saved_model.predict(img_array)\n",
        "  predicted_class = np.argmax(prediction,axis=1)\n",
        "  return predicted_class[0]\n",
        "result = pred_img(\"/content/dhokla.jpg\")\n",
        "class_names[result]"
      ]
    },
    {
      "cell_type": "code",
      "source": [
        "model.save(\"Food_classifier.h5\")"
      ],
      "metadata": {
        "colab": {
          "base_uri": "https://localhost:8080/"
        },
        "id": "ns2Gp-TtJ38t",
        "outputId": "7b7a4beb-d948-46c1-d862-4bed404ae452"
      },
      "execution_count": null,
      "outputs": [
        {
          "output_type": "stream",
          "name": "stderr",
          "text": [
            "WARNING:absl:You are saving your model as an HDF5 file via `model.save()` or `keras.saving.save_model(model)`. This file format is considered legacy. We recommend using instead the native Keras format, e.g. `model.save('my_model.keras')` or `keras.saving.save_model(model, 'my_model.keras')`. \n"
          ]
        }
      ]
    }
  ],
  "metadata": {
    "accelerator": "GPU",
    "colab": {
      "gpuType": "T4",
      "provenance": []
    },
    "kernelspec": {
      "display_name": "Python (food101)",
      "language": "python",
      "name": "food101"
    },
    "language_info": {
      "codemirror_mode": {
        "name": "ipython",
        "version": 3
      },
      "file_extension": ".py",
      "mimetype": "text/x-python",
      "name": "python",
      "nbconvert_exporter": "python",
      "pygments_lexer": "ipython3",
      "version": "3.13.0"
    }
  },
  "nbformat": 4,
  "nbformat_minor": 0
}