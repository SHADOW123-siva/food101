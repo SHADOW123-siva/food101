{
 "cells": [
  {
   "cell_type": "code",
   "execution_count": null,
   "metadata": {},
   "outputs": [],
   "source": [
    "def slope_of_cubic(coefficients,x):    \n",
    "    slope_of_cubic = a*3*pow(x,2)+b*2*pow(x,1)+c\n",
    "    return slope_of_cubic\n",
    "\n",
    "a = float(input(\"Enter the coefficient of cubic term: \"))\n",
    "b = float(input(\"Enter the coefficient of quadratic term: \"))\n",
    "c = float(input(\"Enter the coefficient of linear term: \"))\n",
    "d = float(input(\"Enter the constant term: \"))\n",
    "x = float(input(\"Enter the value of x :\"))\n",
    "coefficients = (a,b,c,d)\n",
    "\n",
    "cubic_slope = slope_of_cubic(coefficients,x)\n",
    "print(f\"The slope of the cubic polynomial at given x is {cubic_slope}\")"
   ]
  },
  {
   "cell_type": "code",
   "execution_count": null,
   "metadata": {},
   "outputs": [],
   "source": []
  }
 ],
 "metadata": {
  "kernelspec": {
   "display_name": "Python(food101)",
   "language": "python",
   "name": "food101"
  },
  "language_info": {
   "codemirror_mode": {
    "name": "ipython",
    "version": 3
   },
   "file_extension": ".py",
   "mimetype": "text/x-python",
   "name": "python",
   "nbconvert_exporter": "python",
   "pygments_lexer": "ipython3",
   "version": "3.13.0"
  }
 },
 "nbformat": 4,
 "nbformat_minor": 4
}
